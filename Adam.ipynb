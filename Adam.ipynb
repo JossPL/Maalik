{
 "cells": [
  {
   "cell_type": "code",
   "execution_count": 1,
   "metadata": {},
   "outputs": [],
   "source": [
    "import numpy as np\n",
    "import plotly as pl\n",
    "from zipfile import ZipFile\n",
    "import pandas as pd\n",
    "import os \n",
    "import json"
   ]
  },
  {
   "cell_type": "markdown",
   "metadata": {},
   "source": [
    "# Datathon\n",
    "\n",
    "1. Vamos a leer el archivo Zip y descomprimirlo."
   ]
  },
  {
   "cell_type": "code",
   "execution_count": null,
   "metadata": {},
   "outputs": [],
   "source": [
    "print(\"Proyecto del datathon\")\n",
    "\n",
    "#Primero vamos a leer los archivos de zipfile\n",
    "\n",
    "Sfile = \"/home/lordangel11/Documentos/Maalik/Data/zips/datos_PDN_all_22_09_2022.zip\"\n",
    "#S2file = \"Data/S2datos_PDN_all_22_09_2022.zip\"\n",
    "#S3file = \"Data/S3datos_PDN_all_22_09_2022.zip\"\n",
    "\n",
    "exdir = \"/home/lordangel11/Documentos/Maalik/Data/extracted\"\n",
    "\n",
    "with ZipFile(Sfile, 'r') as zip:\n",
    "    \n",
    "   zip.printdir()\n",
    "   print(\"Ya leyo todos los archivos\")\n",
    "   \n",
    "   zip.extractall(exdir)\n",
    "   \n",
    "dirs1 = exdir + \"/s1/s1.zip\"\n",
    "\n",
    "with ZipFile(dirs1, 'r') as zip1:\n",
    "    zip1.printdir() \n",
    "    \n",
    "    zip1.extractall(exdir + \"/s1json\")"
   ]
  },
  {
   "cell_type": "markdown",
   "metadata": {},
   "source": [
    "2. El siguiente paso va a ser "
   ]
  },
  {
   "cell_type": "code",
   "execution_count": null,
   "metadata": {},
   "outputs": [],
   "source": []
  }
 ],
 "metadata": {
  "kernelspec": {
   "display_name": "Python 3.10.8 64-bit",
   "language": "python",
   "name": "python3"
  },
  "language_info": {
   "codemirror_mode": {
    "name": "ipython",
    "version": 3
   },
   "file_extension": ".py",
   "mimetype": "text/x-python",
   "name": "python",
   "nbconvert_exporter": "python",
   "pygments_lexer": "ipython3",
   "version": "3.10.8"
  },
  "orig_nbformat": 4,
  "vscode": {
   "interpreter": {
    "hash": "e7370f93d1d0cde622a1f8e1c04877d8463912d04d973331ad4851f04de6915a"
   }
  }
 },
 "nbformat": 4,
 "nbformat_minor": 2
}
